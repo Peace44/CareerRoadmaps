{
 "cells": [
  {
   "cell_type": "code",
   "execution_count": 34,
   "metadata": {},
   "outputs": [],
   "source": [
    "# To install Python packages in Jupyter Notebooks use the command '%conda install'\n",
    "\n",
    "import openai\n",
    "import os\n",
    "from dotenv import load_dotenv\n",
    "\n",
    "load_dotenv()\n",
    "openai.organization = os.getenv('organization-id')\n",
    "openai.api_key = os.getenv('api-key')\n",
    "\n",
    "messages = []\n",
    "\n",
    "def get_completion(prompt, model=\"gpt-4\"):\n",
    "    messages.append({\"role\": \"user\", \"content\": prompt})\n",
    "\n",
    "    response = openai.ChatCompletion.create(\n",
    "        model=model,\n",
    "        messages=messages,\n",
    "        temperature=0, # this is the degree of randomness of the model's output, 0 means deterministic\n",
    "        stream=True\n",
    "    )\n",
    "   \n",
    "    collected_contents = []\n",
    "    for chunk in response:\n",
    "        chunk_content = chunk['choices'][0]['delta'].get('content','')\n",
    "        print(chunk_content, end='')\n",
    "        collected_contents.append(chunk_content)\n",
    "\n",
    "    full_response_content = ''.join([cc for cc in collected_contents])\n",
    "    messages.append({\"role\": \"assistant\", \"content\": full_response_content})"
   ]
  },
  {
   "cell_type": "code",
   "execution_count": 35,
   "metadata": {},
   "outputs": [
    {
     "name": "stdout",
     "output_type": "stream",
     "text": [
      "Becoming a virtuoso software engineer is a long journey that requires dedication, patience, and a lot of practice. Here's a detailed step-by-step guide to help you achieve your goal:\n",
      "\n",
      "1. **Understand What Software Engineering Is**: Software engineering is the application of engineering principles to design, develop, maintain, test, and evaluate computer software. It's not just about programming; it involves understanding and meeting user requirements, ensuring that applications are secure and robust, and working as part of a team.\n",
      "\n",
      "2. **Get a Solid Foundation in Computer Science**: Understanding the basics of computer science is crucial. This includes data structures, algorithms, computer architecture, operating systems, and databases. You can learn these through online courses, textbooks, or a formal education in computer science.\n",
      "\n",
      "3. **Learn to Code**: Choose a beginner-friendly programming language like Python or JavaScript and learn it thoroughly. Understand the syntax, learn how to solve problems, and build simple applications. There are many online platforms like Codecademy, Udemy, Coursera, etc., where you can learn to code.\n",
      "\n",
      "4. **Practice, Practice, Practice**: The key to becoming a great software engineer is practice. Solve problems on platforms like LeetCode, HackerRank, and CodeSignal. Start with easy problems and gradually move to more complex ones. This will not only improve your coding skills but also prepare you for coding interviews.\n",
      "\n",
      "5. **Work on Projects**: Building your own projects is the best way to apply what you've learned. This could be anything from a simple calculator to a full-fledged web application. This will give you practical experience in designing, coding, testing, and debugging.\n",
      "\n",
      "6. **Learn About Software Development Processes**: Understand different software development methodologies like Agile, Scrum, and Waterfall. Learn about version control systems (like Git), testing, continuous integration/continuous deployment (CI/CD), and other practices used in the industry.\n",
      "\n",
      "7. **Master a Backend Language**: Once you're comfortable with your first language, learn a backend language like Java, C#, or Ruby. This will allow you to build more complex, scalable applications.\n",
      "\n",
      "8. **Learn About Databases**: Understand how to design a database, write SQL queries, and integrate a database with your applications. You should also learn about different types of databases (relational, NoSQL) and when to use them.\n",
      "\n",
      "9. **Understand Networking and Security**: Learn about HTTP, SSL, DNS, and other networking protocols. Understand how to secure an application and protect it from common attacks.\n",
      "\n",
      "10. **Keep Learning**: Technology is always evolving, so you should always be learning. Follow industry news, learn new languages and frameworks, and continually improve your skills.\n",
      "\n",
      "11. **Get Real-World Experience**: Apply for internships or entry-level software engineer jobs. There's no substitute for real-world experience. You'll learn how to work in a team, deal with real-world problems, and improve your skills.\n",
      "\n",
      "12. **Specialize**: Once you have a solid foundation and some experience, you can choose to specialize in a particular area, like front-end development, back-end development, mobile app development, AI, etc.\n",
      "\n",
      "Remember, becoming a virtuoso software engineer is a marathon, not a sprint. It's about continual learning and improvement. Don't get discouraged if you don't understand something; keep practicing and asking for help, and you'll get there. Good luck!"
     ]
    }
   ],
   "source": [
    "messages = [\n",
    "{\n",
    "\"role\": \"system\",\n",
    "\"content\":\n",
    "r\"\"\"\n",
    "I want to be a virtuoso software engineer!\n",
    "I am an absolute beginner!\n",
    "\n",
    "Be my guide and:\n",
    "    * Provide me with exhaustive, detailed and organized answers!\n",
    "    * Emphasize the most important aspects!\n",
    "    * Show me an exhaustive & detailed step-by-step guide, and tell me how to execute it properly!\n",
    "\"\"\"\n",
    "}\n",
    "]\n",
    "\n",
    "get_completion(\n",
    "r\"\"\"\n",
    "How can I achieve that ambitious goal?\n",
    "\"\"\"\n",
    ")\n",
    "\n"
   ]
  },
  {
   "cell_type": "code",
   "execution_count": 36,
   "metadata": {},
   "outputs": [
    {
     "name": "stdout",
     "output_type": "stream",
     "text": [
      "Sure, here's a tree-like structure that represents the skills and knowledge you need to become a virtuoso software engineer:\n",
      "\n",
      "**Roots (Fundamentals)**:\n",
      "- Mathematics: Logic, Algebra, Statistics, and Probability.\n",
      "- Problem Solving: Critical thinking, Analytical skills, Creativity.\n",
      "\n",
      "**Trunk (Core Computer Science Knowledge)**:\n",
      "- Programming Fundamentals: Variables, Data Types, Control Structures, Syntax.\n",
      "- Data Structures: Arrays, Linked Lists, Trees, Graphs, Stacks, Queues, Hash Tables.\n",
      "- Algorithms: Searching, Sorting, Optimization, Dynamic Programming.\n",
      "- Computer Architecture: CPU, Memory, I/O, Concurrency.\n",
      "- Operating Systems: Processes, Threads, Memory Management, File Systems.\n",
      "- Databases: SQL, Database Design, Normalization, Transactions, NoSQL.\n",
      "\n",
      "**Branches (Software Engineering Skills)**:\n",
      "- Programming Languages: Python, JavaScript, Java, C++, C#, Ruby, etc.\n",
      "- Software Development Methodologies: Agile, Scrum, Waterfall.\n",
      "- Version Control Systems: Git.\n",
      "- Testing: Unit Testing, Integration Testing, System Testing, Test-Driven Development.\n",
      "- Networking: HTTP, DNS, TCP/IP, SSL.\n",
      "- Security: Encryption, Authentication, Authorization, Common Vulnerabilities.\n",
      "- Web Development: HTML, CSS, JavaScript, Frontend Frameworks (React, Angular, Vue), Backend Frameworks (Node.js, Django, Rails).\n",
      "- Mobile Development: Android (Java, Kotlin), iOS (Objective-C, Swift).\n",
      "- Cloud Computing: AWS, Google Cloud, Azure.\n",
      "- DevOps: CI/CD, Docker, Kubernetes.\n",
      "\n",
      "**Leaves (Specializations)**:\n",
      "- Frontend Development: Advanced JavaScript, Performance Optimization, Accessibility.\n",
      "- Backend Development: Microservices, Database Optimization, Scalability.\n",
      "- Full Stack Development: Combination of both Frontend and Backend.\n",
      "- AI/Machine Learning: Python, R, TensorFlow, PyTorch, Neural Networks, Natural Language Processing.\n",
      "- Data Science: Python, R, Statistics, Data Visualization, Machine Learning.\n",
      "- Cybersecurity: Ethical Hacking, Penetration Testing, Secure Coding Practices.\n",
      "- Game Development: Unity, Unreal Engine, C#, C++.\n",
      "- AR/VR Development: Unity, C#, C++, ARKit, ARCore.\n",
      "\n",
      "Remember, this is a general guide and the specific skills you need may vary depending on your goals and the area you want to specialize in."
     ]
    }
   ],
   "source": [
    "get_completion(\"Construct a tree of skills/knowledge (start with the roots and the trunk, then the branches, and finally with the leaves). Do not forget anything!\")"
   ]
  },
  {
   "cell_type": "code",
   "execution_count": 37,
   "metadata": {},
   "outputs": [
    {
     "name": "stdout",
     "output_type": "stream",
     "text": [
      "Sure, here's an exhaustive list of books that cover the skills and steps mentioned:\n",
      "\n",
      "**Roots (Fundamentals)**:\n",
      "- Mathematics: \"Concrete Mathematics: A Foundation for Computer Science\" by Ronald L. Graham, Donald E. Knuth, and Oren Patashnik.\n",
      "- Problem Solving: \"How to Solve It: A New Aspect of Mathematical Method\" by George Polya.\n",
      "\n",
      "**Trunk (Core Computer Science Knowledge)**:\n",
      "- Programming Fundamentals: \"Head First Programming: A learner's guide to programming using the Python language\" by Paul Barry and David Griffiths.\n",
      "- Data Structures: \"Data Structures and Algorithms Made Easy\" by Narasimha Karumanchi.\n",
      "- Algorithms: \"Introduction to Algorithms\" by Thomas H. Cormen, Charles E. Leiserson, Ronald L. Rivest, and Clifford Stein.\n",
      "- Computer Architecture: \"Computer Organization and Design MIPS Edition: The Hardware/Software Interface\" by David A. Patterson and John L. Hennessy.\n",
      "- Operating Systems: \"Operating System Concepts\" by Abraham Silberschatz, Peter B. Galvin, and Greg Gagne.\n",
      "- Databases: \"Database System Concepts\" by Abraham Silberschatz, Henry F. Korth, and S. Sudarshan.\n",
      "\n",
      "**Branches (Software Engineering Skills)**:\n",
      "- Programming Languages: \"The Pragmatic Programmer: Your Journey To Mastery\" by Andrew Hunt and David Thomas.\n",
      "- Software Development Methodologies: \"Agile Software Development, Principles, Patterns, and Practices\" by Robert C. Martin.\n",
      "- Version Control Systems: \"Pro Git\" by Scott Chacon and Ben Straub.\n",
      "- Testing: \"Test Driven Development: By Example\" by Kent Beck.\n",
      "- Networking: \"Computer Networking: A Top-Down Approach\" by James F. Kurose and Keith W. Ross.\n",
      "- Security: \"Hacking: The Art of Exploitation\" by Jon Erickson.\n",
      "- Web Development: \"Web Development with Node and Express: Leveraging the JavaScript Stack\" by Ethan Brown.\n",
      "- Mobile Development: \"Android Programming: The Big Nerd Ranch Guide\" by Bill Phillips, Chris Stewart, and Kristin Marsicano.\n",
      "- Cloud Computing: \"AWS Certified Solutions Architect Official Study Guide: Associate Exam\" by Joe Baron, Hisham Baz, Tim Bixler, Biff Gaut, Kevin E. Kelly, Sean Senior, and John Stamper.\n",
      "- DevOps: \"The DevOps Handbook: How to Create World-Class Agility, Reliability, and Security in Technology Organizations\" by Gene Kim, Jez Humble, Patrick Debois, and John Willis.\n",
      "\n",
      "**Leaves (Specializations)**:\n",
      "- Frontend Development: \"JavaScript: The Good Parts\" by Douglas Crockford.\n",
      "- Backend Development: \"Clean Architecture: A Craftsman's Guide to Software Structure and Design\" by Robert C. Martin.\n",
      "- Full Stack Development: \"Full Stack JavaScript: Learn Backbone.js, Node.js and MongoDB\" by Azat Mardan.\n",
      "- AI/Machine Learning: \"Hands-On Machine Learning with Scikit-Learn, Keras, and TensorFlow: Concepts, Tools, and Techniques to Build Intelligent Systems\" by Aurélien Géron.\n",
      "- Data Science: \"Python for Data Analysis: Data Wrangling with Pandas, NumPy, and IPython\" by Wes McKinney.\n",
      "- Cybersecurity: \"Metasploit: The Penetration Tester's Guide\" by David Kennedy, Jim O'Gorman, Devon Kearns, and Mati Aharoni.\n",
      "- Game Development: \"Unity in Action: Multiplatform Game Development in C#\" by Joe Hocking.\n",
      "- AR/VR Development: \"Unity Virtual Reality Projects: Learn Virtual Reality by developing more than 10 engaging projects with Unity 2018\" by Jonathan Linowes.\n",
      "\n",
      "Remember, while books are a great resource, don't forget to supplement your learning with practical exercises and projects. Also, keep in mind that technology is always evolving, so it's important to stay up-to-date with the latest trends and advancements."
     ]
    }
   ],
   "source": [
    "get_completion(\"I need an exhaustive reading recommendation that covers every skill/step cited\")"
   ]
  },
  {
   "cell_type": "code",
   "execution_count": 38,
   "metadata": {},
   "outputs": [
    {
     "name": "stdout",
     "output_type": "stream",
     "text": [
      "Certainly, while it's important to cover all areas, you can certainly streamline your reading list. Here's a condensed list of books that cover multiple areas:\n",
      "\n",
      "1. **\"Clean Code: A Handbook of Agile Software Craftsmanship\" by Robert C. Martin**: This book covers a wide range of topics including writing good code, software architecture, and testing. It's a must-read for any aspiring software engineer.\n",
      "\n",
      "2. **\"Introduction to the Theory of Computation\" by Michael Sipser**: This book provides a solid foundation in algorithms, data structures, and the theory behind computation.\n",
      "\n",
      "3. **\"Computer Systems: A Programmer's Perspective\" by Randal E. Bryant and David R. O'Hallaron**: This book covers computer architecture and systems from a programmer's perspective, teaching you what you need to know to write efficient code.\n",
      "\n",
      "4. **\"Operating System Concepts\" by Abraham Silberschatz, Peter B. Galvin, and Greg Gagne**: This book covers the fundamental concepts of operating systems.\n",
      "\n",
      "5. **\"Database System Concepts\" by Abraham Silberschatz, Henry F. Korth, and S. Sudarshan**: This book provides a solid foundation in databases, including SQL and database design.\n",
      "\n",
      "6. **\"The Pragmatic Programmer: Your Journey To Mastery\" by Andrew Hunt and David Thomas**: This book covers a wide range of software engineering topics and is a great guide to becoming a proficient programmer.\n",
      "\n",
      "7. **\"Web Development with Node and Express: Leveraging the JavaScript Stack\" by Ethan Brown**: This book covers both frontend and backend web development, providing a good foundation in full-stack development.\n",
      "\n",
      "8. **\"Python for Data Analysis: Data Wrangling with Pandas, NumPy, and IPython\" by Wes McKinney**: This book is a great introduction to data science and machine learning with Python.\n",
      "\n",
      "9. **\"Hacking: The Art of Exploitation\" by Jon Erickson**: This book provides a good introduction to cybersecurity.\n",
      "\n",
      "Remember, while these books cover a wide range of topics, you'll still need to supplement them with additional resources, especially for areas like mobile development, cloud computing, and DevOps. Also, don't forget to practice what you learn by working on projects and solving problems."
     ]
    }
   ],
   "source": [
    "get_completion(\"Can you minimize the reading without sacrificing any skill/step?\")"
   ]
  },
  {
   "cell_type": "code",
   "execution_count": 39,
   "metadata": {},
   "outputs": [
    {
     "name": "stdout",
     "output_type": "stream",
     "text": [
      "Sure, here's an exhaustive list of online courses that cover the skills and steps mentioned:\n",
      "\n",
      "**Roots (Fundamentals)**:\n",
      "- Mathematics for Computer Science: MIT OpenCourseWare\n",
      "- Learning How to Learn: Coursera\n",
      "\n",
      "**Trunk (Core Computer Science Knowledge)**:\n",
      "- CS50's Introduction to Computer Science: Harvard on edX\n",
      "- Algorithms, Part I and Part II: Princeton on Coursera\n",
      "- Computer Architecture: Princeton on Coursera\n",
      "- Operating Systems and You: Becoming a Power User: Google on Coursera\n",
      "- Database Management Essentials: University of Colorado System on Coursera\n",
      "\n",
      "**Branches (Software Engineering Skills)**:\n",
      "- Learn to Code: Codecademy\n",
      "- Agile Development using Ruby on Rails - The Basics: UC Berkeley on edX\n",
      "- Version Control with Git: Atlassian on Coursera\n",
      "- Software Testing and Analysis: University of Maryland, College Park on Coursera\n",
      "- Computer Networks: University of Washington on Coursera\n",
      "- Cybersecurity for Business: University of Colorado System on Coursera\n",
      "- The Complete Web Developer in 2021: Zero to Mastery on Udemy\n",
      "- Android Developer Nanodegree: Udacity\n",
      "- AWS Certified Solutions Architect - Associate 2020 (PASS THE EXAM!): Udemy\n",
      "- Learn DevOps: The Complete Kubernetes Course: Udemy\n",
      "\n",
      "**Leaves (Specializations)**:\n",
      "- The Complete JavaScript Course 2021: From Zero to Expert!: Udemy\n",
      "- Node.js, Express, MongoDB & More: The Complete Bootcamp 2021: Udemy\n",
      "- Full Stack Web and Multiplatform Mobile App Development: The Hong Kong University of Science and Technology on Coursera\n",
      "- Deep Learning Specialization: deeplearning.ai on Coursera\n",
      "- Python for Data Science and Machine Learning Bootcamp: Udemy\n",
      "- The Complete Cyber Security Course: Network Security!: Udemy\n",
      "- Complete C# Unity Game Developer 2D: Udemy\n",
      "- ARKit and Unity: Build a Drivable Car in Augmented Reality: Udemy\n",
      "\n",
      "Remember, while these courses cover a wide range of topics, you'll still need to supplement them with additional resources, especially for areas like AI/Machine Learning, Data Science, Cybersecurity, Game Development, and AR/VR Development. Also, don't forget to practice what you learn by working on projects and solving problems."
     ]
    }
   ],
   "source": [
    "get_completion(\"I need an exhaustive course recommendation that covers every skill/step cited\")"
   ]
  },
  {
   "cell_type": "code",
   "execution_count": 40,
   "metadata": {},
   "outputs": [
    {
     "name": "stdout",
     "output_type": "stream",
     "text": [
      "Sure, here's an exhaustive list of project ideas that cover the skills and steps mentioned:\n",
      "\n",
      "**Roots (Fundamentals)**:\n",
      "- Mathematics: Implement a calculator or a statistics tool that can calculate mean, median, mode, standard deviation, etc.\n",
      "- Problem Solving: Solve problems on platforms like LeetCode, HackerRank, and CodeSignal.\n",
      "\n",
      "**Trunk (Core Computer Science Knowledge)**:\n",
      "- Programming Fundamentals: Build a simple text-based game like Tic Tac Toe or Hangman.\n",
      "- Data Structures: Implement your own version of data structures like linked lists, stacks, queues, trees, and hash tables.\n",
      "- Algorithms: Implement sorting and searching algorithms and compare their performance.\n",
      "- Computer Architecture: Write a simple assembly language program.\n",
      "- Operating Systems: Write a shell script to automate a task on your computer.\n",
      "- Databases: Design a database for a library or a store, write SQL queries to insert, update, delete, and retrieve data.\n",
      "\n",
      "**Branches (Software Engineering Skills)**:\n",
      "- Programming Languages: Rewrite your text-based game or another simple project in a different language.\n",
      "- Software Development Methodologies: Plan and execute a project using Agile methodology, track your progress using a tool like Jira or Trello.\n",
      "- Version Control Systems: Use Git to manage versions of your project, collaborate with others on GitHub.\n",
      "- Testing: Write unit tests for your project, use a continuous integration service like Travis CI to run your tests automatically.\n",
      "- Networking: Build a simple chat application using sockets.\n",
      "- Security: Add user authentication and authorization to your project, protect against common attacks like SQL injection and cross-site scripting.\n",
      "- Web Development: Build a full-stack web application, like a blog or a to-do list app.\n",
      "- Mobile Development: Build a mobile version of your web application.\n",
      "- Cloud Computing: Deploy your web application to a cloud platform like AWS or Google Cloud.\n",
      "- DevOps: Use Docker to containerize your application, use Kubernetes to orchestrate your containers.\n",
      "\n",
      "**Leaves (Specializations)**:\n",
      "- Frontend Development: Improve the user interface of your web application, add features like animations and transitions.\n",
      "- Backend Development: Add more complex features to your web application, like user accounts, email notifications, and file uploads.\n",
      "- Full Stack Development: Combine your frontend and backend skills to build a more complex web application, like an e-commerce site.\n",
      "- AI/Machine Learning: Build a recommendation system or a spam filter using machine learning.\n",
      "- Data Science: Analyze a dataset and present your findings in a report or a dashboard.\n",
      "- Cybersecurity: Perform a security audit of your web application, fix any vulnerabilities you find.\n",
      "- Game Development: Build a more complex game, like a platformer or a puzzle game.\n",
      "- AR/VR Development: Build a simple AR or VR application, like a virtual tour or a game.\n",
      "\n",
      "Remember, the goal of these projects is to apply what you've learned and gain practical experience. Don't worry if your projects aren't perfect; the important thing is that you're learning and improving. Also, don't forget to showcase your projects on your portfolio or GitHub profile."
     ]
    }
   ],
   "source": [
    "get_completion(\"I need an exhaustive project recommendation that covers every skill/step cited\")"
   ]
  },
  {
   "cell_type": "code",
   "execution_count": 41,
   "metadata": {},
   "outputs": [
    {
     "name": "stdout",
     "output_type": "stream",
     "text": [
      "Sure, here's a comprehensive overview of your journey to becoming a virtuoso software engineer:\n",
      "\n",
      "**1. Understand What Software Engineering Is**: Software engineering is not just about coding. It involves understanding and meeting user requirements, ensuring that applications are secure and robust, and working as part of a team.\n",
      "\n",
      "**2. Get a Solid Foundation in Computer Science**: This includes understanding the basics of computer science such as data structures, algorithms, computer architecture, operating systems, and databases.\n",
      "\n",
      "**3. Learn to Code**: Start with a beginner-friendly programming language like Python or JavaScript. Understand the syntax, learn how to solve problems, and build simple applications.\n",
      "\n",
      "**4. Practice, Practice, Practice**: The key to becoming a great software engineer is practice. Solve problems on platforms like LeetCode, HackerRank, and CodeSignal.\n",
      "\n",
      "**5. Work on Projects**: Building your own projects is the best way to apply what you've learned. This could be anything from a simple calculator to a full-fledged web application.\n",
      "\n",
      "**6. Learn About Software Development Processes**: Understand different software development methodologies like Agile, Scrum, and Waterfall. Learn about version control systems (like Git), testing, continuous integration/continuous deployment (CI/CD), and other practices used in the industry.\n",
      "\n",
      "**7. Master a Backend Language**: Once you're comfortable with your first language, learn a backend language like Java, C#, or Ruby.\n",
      "\n",
      "**8. Learn About Databases**: Understand how to design a database, write SQL queries, and integrate a database with your applications.\n",
      "\n",
      "**9. Understand Networking and Security**: Learn about HTTP, SSL, DNS, and other networking protocols. Understand how to secure an application and protect it from common attacks.\n",
      "\n",
      "**10. Keep Learning**: Technology is always evolving, so you should always be learning. Follow industry news, learn new languages and frameworks, and continually improve your skills.\n",
      "\n",
      "**11. Get Real-World Experience**: Apply for internships or entry-level software engineer jobs. There's no substitute for real-world experience.\n",
      "\n",
      "**12. Specialize**: Once you have a solid foundation and some experience, you can choose to specialize in a particular area, like front-end development, back-end development, mobile app development, AI, etc.\n",
      "\n",
      "**Resources**:\n",
      "- Books: Start with comprehensive books like \"Clean Code\" by Robert C. Martin and \"Introduction to the Theory of Computation\" by Michael Sipser.\n",
      "- Online Courses: Platforms like Coursera, edX, Udemy, and Codecademy offer a wide range of courses covering all aspects of software engineering.\n",
      "- Projects: Work on projects that cover different aspects of software engineering, from building a simple calculator to a complex web application.\n",
      "\n",
      "Remember, becoming a virtuoso software engineer is a marathon, not a sprint. It's about continual learning and improvement. Don't get discouraged if you don't understand something; keep practicing and asking for help, and you'll get there. Good luck!"
     ]
    }
   ],
   "source": [
    "get_completion(\"Considering everything said up to this point, make a final exhaustive, detailed, and organized overview/summary!\")"
   ]
  }
 ],
 "metadata": {
  "kernelspec": {
   "display_name": "base",
   "language": "python",
   "name": "python3"
  },
  "language_info": {
   "codemirror_mode": {
    "name": "ipython",
    "version": 3
   },
   "file_extension": ".py",
   "mimetype": "text/x-python",
   "name": "python",
   "nbconvert_exporter": "python",
   "pygments_lexer": "ipython3",
   "version": "3.11.4"
  },
  "orig_nbformat": 4
 },
 "nbformat": 4,
 "nbformat_minor": 2
}
